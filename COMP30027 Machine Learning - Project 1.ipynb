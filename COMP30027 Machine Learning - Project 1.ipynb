{
 "cells": [
  {
   "cell_type": "markdown",
   "metadata": {},
   "source": [
    "# The University of Melbourne, School of Computing and Information Systems\n",
    "# COMP30027 Machine Learning, 2018 Semester 1\n",
    "-----\n",
    "## Project 1: What is labelled data worth to Naive Bayes?\n",
    "-----\n",
    "###### Student Name(s): Emmanuel Macario\n",
    "###### Python version: 3.6"
   ]
  },
  {
   "cell_type": "markdown",
   "metadata": {},
   "source": [
    "This iPython notebook is a template which you may use for your Project 1 submission. (You are not required to use it; in particular, there is no need to use iPython if you do not like it.)\n",
    "\n",
    "Marking will be applied on the seven functions that are defined in this notebook, and to your responses to the questions at the end of this notebook.\n",
    "\n",
    "You may change the prototypes of these functions, and you may write other functions, according to your requirements. We would appreciate it if the required functions were prominent/easy to find. "
   ]
  },
  {
   "cell_type": "code",
   "execution_count": 30,
   "metadata": {
    "collapsed": true
   },
   "outputs": [],
   "source": [
    "# Import useful libraries\n",
    "from collections import defaultdict\n",
    "import pandas as pd\n",
    "import matplotlib.pyplot as plt\n",
    "import numpy as np"
   ]
  },
  {
   "cell_type": "code",
   "execution_count": 67,
   "metadata": {
    "collapsed": false
   },
   "outputs": [
    {
     "data": {
      "text/html": [
       "<div>\n",
       "<table border=\"1\" class=\"dataframe\">\n",
       "  <thead>\n",
       "    <tr style=\"text-align: right;\">\n",
       "      <th></th>\n",
       "      <th>0</th>\n",
       "      <th>1</th>\n",
       "      <th>2</th>\n",
       "      <th>3</th>\n",
       "      <th>4</th>\n",
       "      <th>5</th>\n",
       "      <th>6</th>\n",
       "    </tr>\n",
       "  </thead>\n",
       "  <tbody>\n",
       "    <tr>\n",
       "      <th>0</th>\n",
       "      <td>vhigh</td>\n",
       "      <td>vhigh</td>\n",
       "      <td>2</td>\n",
       "      <td>2</td>\n",
       "      <td>small</td>\n",
       "      <td>low</td>\n",
       "      <td>unacc</td>\n",
       "    </tr>\n",
       "    <tr>\n",
       "      <th>1</th>\n",
       "      <td>vhigh</td>\n",
       "      <td>vhigh</td>\n",
       "      <td>2</td>\n",
       "      <td>2</td>\n",
       "      <td>small</td>\n",
       "      <td>med</td>\n",
       "      <td>unacc</td>\n",
       "    </tr>\n",
       "    <tr>\n",
       "      <th>2</th>\n",
       "      <td>vhigh</td>\n",
       "      <td>vhigh</td>\n",
       "      <td>2</td>\n",
       "      <td>2</td>\n",
       "      <td>small</td>\n",
       "      <td>high</td>\n",
       "      <td>unacc</td>\n",
       "    </tr>\n",
       "    <tr>\n",
       "      <th>3</th>\n",
       "      <td>vhigh</td>\n",
       "      <td>vhigh</td>\n",
       "      <td>2</td>\n",
       "      <td>2</td>\n",
       "      <td>med</td>\n",
       "      <td>low</td>\n",
       "      <td>unacc</td>\n",
       "    </tr>\n",
       "    <tr>\n",
       "      <th>4</th>\n",
       "      <td>vhigh</td>\n",
       "      <td>vhigh</td>\n",
       "      <td>2</td>\n",
       "      <td>2</td>\n",
       "      <td>med</td>\n",
       "      <td>med</td>\n",
       "      <td>unacc</td>\n",
       "    </tr>\n",
       "  </tbody>\n",
       "</table>\n",
       "</div>"
      ],
      "text/plain": [
       "       0      1  2  3      4     5      6\n",
       "0  vhigh  vhigh  2  2  small   low  unacc\n",
       "1  vhigh  vhigh  2  2  small   med  unacc\n",
       "2  vhigh  vhigh  2  2  small  high  unacc\n",
       "3  vhigh  vhigh  2  2    med   low  unacc\n",
       "4  vhigh  vhigh  2  2    med   med  unacc"
      ]
     },
     "execution_count": 67,
     "metadata": {},
     "output_type": "execute_result"
    }
   ],
   "source": [
    "# Filename constants used for easy file access\n",
    "CSV1 = 'breast-cancer-dos.csv'\n",
    "CSV2 = 'car-dos.csv'\n",
    "CSV3 = 'hypothyroid-dos.csv'\n",
    "CSV4 = 'mushroom-dos.csv'\n",
    "\n",
    "\n",
    "def preprocess(filename):\n",
    "    \"\"\"\n",
    "    Opens a data file in csv, and transforms it into\n",
    "    a usable format.\n",
    "    \"\"\"\n",
    "    \n",
    "    # Read csv data into a dataframe. Assign\n",
    "    # an integer value to each attribute in\n",
    "    # the data.\n",
    "    df = pd.read_csv(filename, header=None)\n",
    "    \n",
    "    return df\n",
    "\n",
    "\n",
    "\n",
    "# Test preprocess function\n",
    "df = preprocess(CSV2)\n",
    "df.head(5)\n",
    "\n"
   ]
  },
  {
   "cell_type": "code",
   "execution_count": 66,
   "metadata": {
    "collapsed": false
   },
   "outputs": [
    {
     "data": {
      "text/plain": [
       "{'acc': {0: defaultdict(int,\n",
       "              {'high': 108, 'low': 89, 'med': 115, 'vhigh': 72}),\n",
       "  1: defaultdict(int, {'high': 105, 'low': 92, 'med': 115, 'vhigh': 72}),\n",
       "  2: defaultdict(int, {'2': 81, '3': 99, '4': 102, '5more': 102}),\n",
       "  3: defaultdict(int, {'4': 198, 'more': 186}),\n",
       "  4: defaultdict(int, {'big': 144, 'med': 135, 'small': 105}),\n",
       "  5: defaultdict(int, {'high': 204, 'med': 180})},\n",
       " 'good': {0: defaultdict(int, {'low': 46, 'med': 23}),\n",
       "  1: defaultdict(int, {'low': 46, 'med': 23}),\n",
       "  2: defaultdict(int, {'2': 15, '3': 18, '4': 18, '5more': 18}),\n",
       "  3: defaultdict(int, {'4': 36, 'more': 33}),\n",
       "  4: defaultdict(int, {'big': 24, 'med': 24, 'small': 21}),\n",
       "  5: defaultdict(int, {'high': 30, 'med': 39})},\n",
       " 'unacc': {0: defaultdict(int,\n",
       "              {'high': 324, 'low': 258, 'med': 268, 'vhigh': 360}),\n",
       "  1: defaultdict(int, {'high': 314, 'low': 268, 'med': 268, 'vhigh': 360}),\n",
       "  2: defaultdict(int, {'2': 326, '3': 300, '4': 292, '5more': 292}),\n",
       "  3: defaultdict(int, {'2': 576, '4': 312, 'more': 322}),\n",
       "  4: defaultdict(int, {'big': 368, 'med': 392, 'small': 450}),\n",
       "  5: defaultdict(int, {'high': 277, 'low': 576, 'med': 357})},\n",
       " 'vgood': {0: defaultdict(int, {'low': 39, 'med': 26}),\n",
       "  1: defaultdict(int, {'high': 13, 'low': 26, 'med': 26}),\n",
       "  2: defaultdict(int, {'2': 10, '3': 15, '4': 20, '5more': 20}),\n",
       "  3: defaultdict(int, {'4': 30, 'more': 35}),\n",
       "  4: defaultdict(int, {'big': 40, 'med': 25}),\n",
       "  5: defaultdict(int, {'high': 65})}}"
      ]
     },
     "execution_count": 66,
     "metadata": {},
     "output_type": "execute_result"
    }
   ],
   "source": [
    "# This function should build a supervised NB model\n",
    "def train_supervised(df):\n",
    "    \"\"\"\n",
    "    Builds a supervised Naive Bays model,\n",
    "    given a preprocessed set of training\n",
    "    data, by calculating counts from the\n",
    "    training data.\n",
    "    \"\"\"\n",
    "    \n",
    "    # The supervised NB model\n",
    "    supervised_model = {}\n",
    "    \n",
    "    # For every instance in the training\n",
    "    # data, update the counts in the model.\n",
    "    for instance in df.values:\n",
    "        \n",
    "        # Get the class label\n",
    "        class_label = instance[-1]\n",
    "        \n",
    "        # If the class label has not yet been\n",
    "        # seen, initialise a new dictionary\n",
    "        # for the class.\n",
    "        if class_label not in supervised_model:\n",
    "            \n",
    "            # New dictionary for every new class\n",
    "            supervised_model[class_label] = {}\n",
    "            \n",
    "            # For each attribute, initialise\n",
    "            # a new default dictionary.\n",
    "            for attr in df.columns[:-1]:\n",
    "                \n",
    "                supervised_model[class_label][attr] = defaultdict(int)\n",
    "            \n",
    "            \n",
    "        # For every attribute in the instance,\n",
    "        # get its corresponding value and update\n",
    "        # the model.\n",
    "        for attr in df.columns[:-1]:\n",
    "            attr_value = instance[attr]\n",
    "            supervised_model[class_label][attr][attr_value] += 1\n",
    "    \n",
    "    \n",
    "    return supervised_model\n",
    "\n",
    "\n",
    "\n",
    "# Test function\n",
    "train_supervised(df)"
   ]
  },
  {
   "cell_type": "code",
   "execution_count": null,
   "metadata": {
    "collapsed": true
   },
   "outputs": [],
   "source": [
    "# This function should predict the class for a set of instances, based on a trained model \n",
    "def predict_supervised():\n",
    "    return"
   ]
  },
  {
   "cell_type": "code",
   "execution_count": null,
   "metadata": {
    "collapsed": true
   },
   "outputs": [],
   "source": [
    "# This function should evaluate a set of predictions, in a supervised context \n",
    "def evaluate_supervised():\n",
    "    return"
   ]
  },
  {
   "cell_type": "code",
   "execution_count": null,
   "metadata": {
    "collapsed": true
   },
   "outputs": [],
   "source": [
    "# This function should build an unsupervised NB model \n",
    "def train_unsupervised():\n",
    "    return"
   ]
  },
  {
   "cell_type": "code",
   "execution_count": null,
   "metadata": {
    "collapsed": true
   },
   "outputs": [],
   "source": [
    "# This function should predict the class distribution for a set of instances, based on a trained model\n",
    "def predict_unsupervised():\n",
    "    return"
   ]
  },
  {
   "cell_type": "code",
   "execution_count": null,
   "metadata": {
    "collapsed": true
   },
   "outputs": [],
   "source": [
    "# This function should evaluate a set of predictions, in an unsupervised manner\n",
    "def evaluate_unsupervised():\n",
    "    return"
   ]
  },
  {
   "cell_type": "markdown",
   "metadata": {},
   "source": [
    "Questions (you may respond in a cell or cells below):\n",
    "\n",
    "1. Since we’re starting off with random guesses, it might be surprising that the unsupervised NB works at all. Explain what characteristics of the data cause it to work pretty well (say, within 10% Accuracy of the supervised NB) most of the time; also, explain why it utterly fails sometimes.\n",
    "2. When evaluating supervised NB across the four different datasets, you will observe some variation in effectiveness (e.g. Accuracy). Explain what causes this variation. Describe and explain any particularly suprising results.\n",
    "3. Evaluating the model on the same data that we use to train the model is considered to be a major mistake in Machine Learning. Implement a hold–out (hint: check out numpy.shuffle()) or cross–validation evaluation strategy. How does your estimate of Accuracy change, compared to testing on the training data? Explain why. (The result might surprise you!)\n",
    "4. Implement one of the advanced smoothing regimes (add-k, Good-Turing). Do you notice any variation in the predictions made by either the supervised or unsupervised NB classifiers? Explain why, or why not.\n",
    "5. The lecture suggests that deterministically labelling the instances in the initialisation phase of the unsupervised NB classifier “doesn’t work very well”. Confirm this for yourself, and then demonstrate why.\n",
    "6. Rather than evaluating the unsupervised NB classifier by assigning a class deterministically, instead calculate how far away the probabilistic estimate of the true class is from 1 (where we would be certain of the correct class), and take the average over the instances. Does this performance estimate change, as we alter the number of iterations in the method? Explain why.\n",
    "7. Explore what causes the unsupervised NB classifier to converge: what proportion of instances change their prediction from the random assignment, to the first iteration? From the first to the second? What is the latest iteration where you observe a prediction change? Make some conjecture(s) as to what is occurring here.\n",
    "\n",
    "Don't forget that groups of 1 student should respond to question (1), and one other question. Groups of 2 students should respond to question (1), and three other questions. Your responses should be about 100-200 words each."
   ]
  },
  {
   "cell_type": "code",
   "execution_count": null,
   "metadata": {
    "collapsed": true
   },
   "outputs": [],
   "source": []
  }
 ],
 "metadata": {
  "kernelspec": {
   "display_name": "Python 3",
   "language": "python",
   "name": "python3"
  },
  "language_info": {
   "codemirror_mode": {
    "name": "ipython",
    "version": 3
   },
   "file_extension": ".py",
   "mimetype": "text/x-python",
   "name": "python",
   "nbconvert_exporter": "python",
   "pygments_lexer": "ipython3",
   "version": "3.6.0"
  }
 },
 "nbformat": 4,
 "nbformat_minor": 2
}
